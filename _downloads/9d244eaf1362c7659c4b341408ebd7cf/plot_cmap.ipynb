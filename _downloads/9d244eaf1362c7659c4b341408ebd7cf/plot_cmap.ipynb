{
  "cells": [
    {
      "cell_type": "code",
      "execution_count": null,
      "metadata": {
        "collapsed": false
      },
      "outputs": [],
      "source": [
        "%matplotlib inline"
      ]
    },
    {
      "cell_type": "markdown",
      "metadata": {},
      "source": [
        "\n# Plotting Colormaps\n\nShow all colormaps in kkpy\n"
      ]
    },
    {
      "cell_type": "code",
      "execution_count": null,
      "metadata": {
        "collapsed": false
      },
      "outputs": [],
      "source": [
        "import kkpy\nimport matplotlib as mpl\nimport matplotlib.pyplot as plt\nimport inspect\n\n# Get all available cmaps\ndef available_functions(module):\n    func_list_with_underscore = [x.__name__ for x in module.__dict__.values() if inspect.isfunction(x)]\n    func_list = [x for x in func_list_with_underscore if not x.startswith('_')]\n    \n    return func_list\n\ncm_list = available_functions(kkpy.cm)\n\n\n# Get labels for each cmap\nlabels = [f'kkpy.cm.{x}()' for x in cm_list]\n\n# Draw cmaps\nfig = plt.figure(figsize=(15,len(cm_list)), dpi=250)\ngs = fig.add_gridspec(len(cm_list), 1, hspace=3.5)\nfor i_c, cm in enumerate(cm_list):\n    # for each cmap\n    cmap = getattr(kkpy.cm, cm)()\n    \n    ax = plt.subplot(gs[i_c])\n\n    # cmap and norm are usually used in plt.pcolormesh()\n    # ticks can be used in plt.colorbar()\n    cb = mpl.colorbar.ColorbarBase(ax,\n                                   cmap=cmap['cmap'],\n                                   norm=cmap['norm'],\n                                   ticks=cmap['ticks'],\n                                   orientation='horizontal')\n    cb.set_label(labels[i_c])\nplt.show()"
      ]
    }
  ],
  "metadata": {
    "kernelspec": {
      "display_name": "Python 3",
      "language": "python",
      "name": "python3"
    },
    "language_info": {
      "codemirror_mode": {
        "name": "ipython",
        "version": 3
      },
      "file_extension": ".py",
      "mimetype": "text/x-python",
      "name": "python",
      "nbconvert_exporter": "python",
      "pygments_lexer": "ipython3",
      "version": "3.7.6"
    }
  },
  "nbformat": 4,
  "nbformat_minor": 0
}