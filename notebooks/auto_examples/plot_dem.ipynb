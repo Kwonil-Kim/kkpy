{
  "cells": [
    {
      "cell_type": "code",
      "execution_count": null,
      "metadata": {
        "collapsed": false
      },
      "outputs": [],
      "source": [
        "%matplotlib inline"
      ]
    },
    {
      "cell_type": "markdown",
      "metadata": {},
      "source": [
        "\n# Plotting DEM\n\nRead/plot DEM and korea map with DFS map projection\n"
      ]
    },
    {
      "cell_type": "code",
      "execution_count": null,
      "metadata": {
        "collapsed": false
      },
      "outputs": [],
      "source": [
        "import numpy as np\nimport matplotlib.pyplot as plt\nimport matplotlib.ticker as mticker\nimport cartopy.crs as ccrs\nimport kkpy\n\n# read DEM\ndem, londem, latdem, projdem = kkpy.io.read_dem(area='korea')\n\n# load DFS projection\nproj = kkpy.util.proj_dfs()\n\n# initialize figure and axes\nfig = plt.figure(figsize=(5,5), dpi=300)\nax = plt.subplot(projection=proj)\n\n# set boundary of map\nax.set_extent([124, 130, 33, 43], crs=ccrs.PlateCarree())\n\n# plot dem\ncmap = plt.cm.terrain\ncmap.set_under('white')\nplt.pcolormesh(londem, latdem, dem, transform=ccrs.PlateCarree(), cmap=cmap)\n\n# set grid\ngl = ax.gridlines(draw_labels=True, dms=False, x_inline=False, y_inline=False)\ngl.xlocator = mticker.FixedLocator(np.arange(124,130.1,1))\ngl.ylocator = mticker.FixedLocator(np.arange(33,43.1,1))\ngl.rotate_labels = False\ngl.top_labels = gl.right_labels = False\n\n#kkpy.plot.koreamap(ax=ax)\nplt.show()"
      ]
    }
  ],
  "metadata": {
    "kernelspec": {
      "display_name": "Python 3",
      "language": "python",
      "name": "python3"
    },
    "language_info": {
      "codemirror_mode": {
        "name": "ipython",
        "version": 3
      },
      "file_extension": ".py",
      "mimetype": "text/x-python",
      "name": "python",
      "nbconvert_exporter": "python",
      "pygments_lexer": "ipython3",
      "version": "3.7.6"
    }
  },
  "nbformat": 4,
  "nbformat_minor": 0
}