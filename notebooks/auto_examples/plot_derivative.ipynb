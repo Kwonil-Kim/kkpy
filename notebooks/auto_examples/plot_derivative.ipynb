{
  "cells": [
    {
      "cell_type": "code",
      "execution_count": null,
      "metadata": {
        "collapsed": false
      },
      "outputs": [],
      "source": [
        "%matplotlib inline"
      ]
    },
    {
      "cell_type": "markdown",
      "metadata": {},
      "source": [
        "\n# Computing derivative\n\nExamples showing the calculation of derivative of 1D and 2D arrays.\nNote that 1) the speed is enhanced, 2) the edge issue during the convolution is resolved, and 3) the NaN values are considered.\n"
      ]
    },
    {
      "cell_type": "code",
      "execution_count": null,
      "metadata": {
        "collapsed": false
      },
      "outputs": [],
      "source": [
        "import numpy as np\nimport matplotlib.pyplot as plt\nimport datetime\nimport kkpy\n\ndef ddx_slow(var, dx):\n    res = np.full(var.shape, np.nan)\n    for i in np.arange(var.shape[0]):\n        for j in np.arange(var.shape[1]):\n            if j <= int(dx/2):\n                res[i,j] = (arr2d[i,j+int(dx/2)]-arr2d[i,0]) / (j+int(dx/2))\n            elif j+int(dx/2) > var.shape[1]-1:\n                res[i,j] = (arr2d[i,-1]-arr2d[i,j-int(dx/2)]) / (var.shape[1]-j+int(dx/2)-1)\n            else:\n                res[i,j] = (arr2d[i,j+int(dx/2)]-arr2d[i,j-int(dx/2)]) / (dx-1)\n    return res\n\nwinsize = 5\n\n# 1D Array\nxarr = np.linspace(0, 2*np.pi, 1000)\nyarr = np.sin(xarr)\nderiv1d = kkpy.util.derivative(yarr, winsize, pixelsize=xarr[1]-xarr[0])\n\nfig = plt.figure(figsize=(4,3), dpi=200)\nplt.plot(xarr, yarr, label='f(x)')\nplt.plot(xarr, deriv1d, label='Derivative of f(x)')\nkkpy.plot.tickint(ax=plt.gca(), major=np.pi/4)\nplt.gca().set_xticks(np.arange(0, 2*np.pi+0.01, np.pi/4))\nplt.gca().set_yticks(np.arange(-1, 1.01, 0.25))\nlabels = ['$0$', r'$\\pi/4$', r'$\\pi/2$', r'$3\\pi/4$', r'$\\pi$',\n          r'$5\\pi/4$', r'$3\\pi/2$', r'$7\\pi/4$', r'$2\\pi$']\nplt.gca().set_xticklabels(labels)\nplt.legend()\nplt.grid()\nplt.title('1D Array')\nplt.show()\n\n# 2D Array\narr2d = np.sqrt(np.arange(100)**2/10 + np.arange(50)[:,np.newaxis]**2)\narr2d[30:40,50:60] = np.nan\narr2d[5:7,78:90] = np.nan\n\ntime1 = datetime.datetime.now()\nderiv2d_kkpy = kkpy.util.derivative(arr2d, winsize, axis=1)\nelapsed_kkpy = datetime.datetime.now()-time1\n\ntime2 = datetime.datetime.now()\nderiv2d_slow = ddx_slow(arr2d, winsize)\nelapsed_slow = datetime.datetime.now()-time2\n\ntitles = ['2D Array', 'dZ/dx (kkpy)', 'dZ/dx (slower)']\nminmax = 0.4\n\nfig = plt.figure(figsize=(11,3), dpi=200)\ngs = fig.add_gridspec(1,3)\nax = plt.subplot(gs[0])\npm = ax.pcolormesh(arr2d, cmap=plt.cm.turbo)\nkkpy.plot.tickint(ax=ax, major=20, minor=10, which='xaxis')\nkkpy.plot.tickint(ax=ax, major=10, minor=5, which='yaxis')\nplt.colorbar(pm, ax=ax)\nax.set_title(titles[0])\nplt.grid()\nfor i_v, variable in enumerate([deriv2d_kkpy, deriv2d_slow]):\n    ax = plt.subplot(gs[i_v+1])\n    pm = ax.pcolormesh(variable, vmin=-minmax, vmax=minmax, cmap=plt.cm.bwr)\n    kkpy.plot.tickint(ax=ax, major=20, minor=10, which='xaxis')\n    kkpy.plot.tickint(ax=ax, major=10, minor=5, which='yaxis')\n    plt.colorbar(pm, ax=ax)\n    ax.set_title(titles[i_v+1])\n    plt.grid()\nplt.show()\n\nprint(f'kkpy : {elapsed_kkpy.microseconds} ms ({elapsed_slow.microseconds/elapsed_kkpy.microseconds:.1f}x faster)')\nprint(f'slow : {elapsed_slow.microseconds} ms')\nprint('Is equal? : ', np.array_equal(deriv2d_kkpy, deriv2d_slow, equal_nan=True))"
      ]
    }
  ],
  "metadata": {
    "kernelspec": {
      "display_name": "Python 3",
      "language": "python",
      "name": "python3"
    },
    "language_info": {
      "codemirror_mode": {
        "name": "ipython",
        "version": 3
      },
      "file_extension": ".py",
      "mimetype": "text/x-python",
      "name": "python",
      "nbconvert_exporter": "python",
      "pygments_lexer": "ipython3",
      "version": "3.7.6"
    }
  },
  "nbformat": 4,
  "nbformat_minor": 0
}